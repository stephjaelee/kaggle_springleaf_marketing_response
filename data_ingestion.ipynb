{
 "cells": [
  {
   "cell_type": "markdown",
   "id": "b9063993-be1b-4cd8-ac5d-3e00a56bd4cd",
   "metadata": {
    "editable": true,
    "slideshow": {
     "slide_type": ""
    },
    "tags": []
   },
   "source": [
    "#### Folder Structure"
   ]
  },
  {
   "cell_type": "markdown",
   "id": "590ad126-1b82-464f-836b-3e0c86933b40",
   "metadata": {},
   "source": [
    "- dataset\n",
    "  - raw\n",
    "      - csv : contains unzipped csv files\n",
    "      - zip : contains the original zip file from kaggle\n",
    "      - staging : files unzip to csv.zip, so this is a staging area\n",
    "  - data_warehouse\n",
    "      - contains cleaned and transformed tables in parquet"
   ]
  },
  {
   "cell_type": "code",
   "execution_count": 1,
   "id": "fa3c4cca-c420-479e-8b6e-d9375453dc92",
   "metadata": {},
   "outputs": [],
   "source": [
    "import os\n",
    "import zipfile"
   ]
  },
  {
   "cell_type": "markdown",
   "id": "bc5db577-c349-4619-bb65-d9ea2b082aa0",
   "metadata": {},
   "source": [
    "#### Define or create dataset directories"
   ]
  },
  {
   "cell_type": "code",
   "execution_count": 5,
   "id": "d1dcb2c2-347d-4ff3-bffa-9d4aa9381346",
   "metadata": {},
   "outputs": [],
   "source": [
    "def make_dir(root: str, directory_name: str) -> str:\n",
    "    new_directory_path = os.path.join(root, directory_name)\n",
    "    os.makedirs(new_directory_path, exist_ok=True)\n",
    "    return new_directory_path"
   ]
  },
  {
   "cell_type": "code",
   "execution_count": 24,
   "id": "e1085276-4751-4899-9488-ac902b17aea8",
   "metadata": {},
   "outputs": [],
   "source": [
    "dataset_dir = make_dir(os.getcwd(), \"dataset\")\n",
    "raw_csv_dir = make_dir(dataset_dir, os.path.join(\"raw\",\"csv\"))\n",
    "raw_zip_dir = make_dir(dataset_dir, os.path.join(\"raw\", \"zip\"))\n",
    "raw_staging_dir = make_dir(dataset_dir, os.path.join(\"raw\", \"staging\"))\n",
    "data_warehouse_dir = make_dir(dataset_dir, \"data_warehouse\")"
   ]
  },
  {
   "cell_type": "code",
   "execution_count": 13,
   "id": "fbbd4f34-ce17-4c45-aff4-3672a010b1ec",
   "metadata": {},
   "outputs": [],
   "source": [
    "zip_data = os.path.join(raw_zip_dir,\"springleaf-marketing-response.zip\")"
   ]
  },
  {
   "cell_type": "markdown",
   "id": "2288c2c2-9b18-4ee2-a530-fe1d0b5fa99d",
   "metadata": {},
   "source": [
    "#### Unzip files"
   ]
  },
  {
   "cell_type": "code",
   "execution_count": 20,
   "id": "9d33121c-1eb8-4502-a866-48178efb628c",
   "metadata": {},
   "outputs": [],
   "source": [
    "def unzip_file(source_path:str\n",
    "               , destination_path:str\n",
    "               , drop_source_zip=False\n",
    "              ):\n",
    "    with zipfile.ZipFile(source_path, 'r') as zip_obj:\n",
    "        zip_obj.extractall(destination_path)\n",
    "    if drop_source_zip:\n",
    "        os.remove(source_path)"
   ]
  },
  {
   "cell_type": "code",
   "execution_count": 21,
   "id": "61375946-5d81-4625-b1da-53e090f31ab0",
   "metadata": {},
   "outputs": [],
   "source": [
    "def clean_raw_csv_directory(csv_directory: str):\n",
    "    for file_name in os.listdir(csv_directory):\n",
    "        file_path = os.path.join(csv_directory, file_name)\n",
    "        if file_name.endswith('.csv'):\n",
    "            os.remove(file_path)"
   ]
  },
  {
   "cell_type": "code",
   "execution_count": 25,
   "id": "b70df939-55d1-4c29-aa70-64b114226871",
   "metadata": {},
   "outputs": [],
   "source": [
    "# Start Fresh by deleting old data\n",
    "clean_raw_csv_directory(raw_csv_dir)\n",
    "# Unzip the first zip file and send to staging\n",
    "unzip_file(source_path = zip_data\n",
    "           , destination_path=raw_staging_dir)\n",
    "\n",
    "for file_name in os.listdir(raw_staging_dir):\n",
    "    if file_name.endswith('.csv.zip'):\n",
    "        source_path = os.path.join(raw_staging_dir, file_name)\n",
    "        unzip_file(source_path, raw_csv_dir, drop_source_zip=True)\n",
    "    elif file_name.endswith('.csv'):\n",
    "        os.rename(os.path.join(raw_staging_dir, file_name)\n",
    "                  ,os.path.join(raw_csv_dir, file_name))"
   ]
  },
  {
   "cell_type": "code",
   "execution_count": null,
   "id": "6eb23a66-f503-4b93-8622-272961a4e575",
   "metadata": {},
   "outputs": [],
   "source": []
  }
 ],
 "metadata": {
  "kernelspec": {
   "display_name": "Python 3 (ipykernel)",
   "language": "python",
   "name": "python3"
  },
  "language_info": {
   "codemirror_mode": {
    "name": "ipython",
    "version": 3
   },
   "file_extension": ".py",
   "mimetype": "text/x-python",
   "name": "python",
   "nbconvert_exporter": "python",
   "pygments_lexer": "ipython3",
   "version": "3.12.4"
  }
 },
 "nbformat": 4,
 "nbformat_minor": 5
}
